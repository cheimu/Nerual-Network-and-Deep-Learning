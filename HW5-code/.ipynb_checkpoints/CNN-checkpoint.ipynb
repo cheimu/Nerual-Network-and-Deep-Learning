{
 "cells": [
  {
   "cell_type": "markdown",
   "metadata": {},
   "source": [
    "# Convolutional neural networks\n",
    "\n",
    "In this notebook, we'll put together our convolutional layers to implement a 3-layer CNN.  Then, we'll ask you to implement a CNN that can achieve > 65% validation error on CIFAR-10.\n",
    "\n",
    "CS231n has built a solid API for building these modular frameworks and training them, and we will use their very well implemented framework as opposed to \"reinventing the wheel.\"  This includes using their Solver, various utility functions, their layer structure, and their implementation of fast CNN layers.  This also includes nndl.fc_net, nndl.layers, and nndl.layer_utils.  As in prior assignments, we thank Serena Yeung & Justin Johnson for permission to use code written for the CS 231n class (cs231n.stanford.edu).  \n",
    "\n",
    "\n",
    "If you have not completed the Spatial BatchNorm Notebook, please see the following description from that notebook:\n",
    "\n",
    "Please copy and paste your prior implemented code from HW #4 to start this assignment.  If you did not correctly implement the layers in HW #4, you may collaborate with a classmate to use their layer implementations from HW #4.  You may also visit TA or Prof OH to correct your implementation.  \n",
    "\n",
    "You'll want to copy and paste from HW #4:\n",
    "    - layers.py for your FC network layers, as well as batchnorm and dropout.\n",
    "    - layer_utils.py for your combined FC network layers.\n",
    "    - optim.py for your optimizers.\n",
    "\n",
    "Be sure to place these in the `nndl/` directory so they're imported correctly.  Note, as announced in class, we will not be releasing our solutions."
   ]
  },
  {
   "cell_type": "code",
   "execution_count": 1,
   "metadata": {},
   "outputs": [],
   "source": [
    "# As usual, a bit of setup\n",
    "\n",
    "import numpy as np\n",
    "import matplotlib.pyplot as plt\n",
    "from nndl.cnn import *\n",
    "from cs231n.data_utils import get_CIFAR10_data\n",
    "from cs231n.gradient_check import eval_numerical_gradient_array, eval_numerical_gradient\n",
    "from nndl.layers import *\n",
    "from nndl.conv_layers import *\n",
    "from cs231n.fast_layers import *\n",
    "from cs231n.solver import Solver\n",
    "\n",
    "%matplotlib inline\n",
    "plt.rcParams['figure.figsize'] = (10.0, 8.0) # set default size of plots\n",
    "plt.rcParams['image.interpolation'] = 'nearest'\n",
    "plt.rcParams['image.cmap'] = 'gray'\n",
    "\n",
    "# for auto-reloading external modules\n",
    "# see http://stackoverflow.com/questions/1907993/autoreload-of-modules-in-ipython\n",
    "%load_ext autoreload\n",
    "%autoreload 2\n",
    "\n",
    "def rel_error(x, y):\n",
    "  \"\"\" returns relative error \"\"\"\n",
    "  return np.max(np.abs(x - y) / (np.maximum(1e-8, np.abs(x) + np.abs(y))))"
   ]
  },
  {
   "cell_type": "code",
   "execution_count": 2,
   "metadata": {},
   "outputs": [
    {
     "name": "stdout",
     "output_type": "stream",
     "text": [
      "X_train: (49000, 3, 32, 32) \n",
      "y_train: (49000,) \n",
      "X_val: (1000, 3, 32, 32) \n",
      "y_val: (1000,) \n",
      "X_test: (1000, 3, 32, 32) \n",
      "y_test: (1000,) \n"
     ]
    }
   ],
   "source": [
    "# Load the (preprocessed) CIFAR10 data.\n",
    "\n",
    "data = get_CIFAR10_data()\n",
    "for k in data.keys():\n",
    "  print('{}: {} '.format(k, data[k].shape))"
   ]
  },
  {
   "cell_type": "markdown",
   "metadata": {},
   "source": [
    "## Three layer CNN\n",
    "\n",
    "In this notebook, you will implement a three layer CNN.  The `ThreeLayerConvNet` class is in `nndl/cnn.py`.  You'll need to modify that code for this section, including the initialization, as well as the calculation of the loss and gradients.  You should be able to use the building blocks you have either earlier coded or that we have provided.  Be sure to use the fast layers.\n",
    "\n",
    "The architecture of this CNN will be:\n",
    "\n",
    "conv - relu - 2x2 max pool - affine - relu - affine - softmax\n",
    "\n",
    "We won't use batchnorm yet.  You've also done enough of these to know how to debug; use the cells below.\n",
    "\n",
    "Note: As we are implementing several layers CNN networks. The gradient error can be expected for the `eval_numerical_gradient()` function. If your `W1 max relative error` and `W2 max relative error` are around or below 0.01, they should be acceptable. Other errors should be less than 1e-5. "
   ]
  },
  {
   "cell_type": "code",
   "execution_count": 15,
   "metadata": {},
   "outputs": [
    {
     "name": "stdout",
     "output_type": "stream",
     "text": [
      "W1 max relative error: 0.00020202673877674982\n",
      "W2 max relative error: 0.017277940632851194\n",
      "W3 max relative error: 0.00014009130203738234\n",
      "b1 max relative error: 2.984057069381279e-05\n",
      "b2 max relative error: 5.5646850869103094e-06\n",
      "b3 max relative error: 1.0911058149390891e-09\n"
     ]
    }
   ],
   "source": [
    "num_inputs = 2\n",
    "input_dim = (3, 16, 16)\n",
    "reg = 0.0\n",
    "num_classes = 10\n",
    "X = np.random.randn(num_inputs, *input_dim)\n",
    "y = np.random.randint(num_classes, size=num_inputs)\n",
    "\n",
    "model = ThreeLayerConvNet(num_filters=3, filter_size=3,\n",
    "                          input_dim=input_dim, hidden_dim=7,\n",
    "                          dtype=np.float64)\n",
    "loss, grads = model.loss(X, y)\n",
    "for param_name in sorted(grads):\n",
    "    f = lambda _: model.loss(X, y)[0]\n",
    "    param_grad_num = eval_numerical_gradient(f, model.params[param_name], verbose=False, h=1e-6)\n",
    "    e = rel_error(param_grad_num, grads[param_name])\n",
    "    print('{} max relative error: {}'.format(param_name, rel_error(param_grad_num, grads[param_name])))"
   ]
  },
  {
   "cell_type": "markdown",
   "metadata": {},
   "source": [
    "### Overfit small dataset\n",
    "\n",
    "To check your CNN implementation, let's overfit a small dataset."
   ]
  },
  {
   "cell_type": "code",
   "execution_count": 16,
   "metadata": {},
   "outputs": [
    {
     "name": "stdout",
     "output_type": "stream",
     "text": [
      "(Iteration 1 / 20) loss: 2.475135\n",
      "(Epoch 0 / 10) train acc: 0.120000; val_acc: 0.118000\n",
      "(Iteration 2 / 20) loss: 4.349802\n",
      "(Epoch 1 / 10) train acc: 0.160000; val_acc: 0.119000\n",
      "(Iteration 3 / 20) loss: 4.413848\n",
      "(Iteration 4 / 20) loss: 2.208802\n",
      "(Epoch 2 / 10) train acc: 0.250000; val_acc: 0.120000\n",
      "(Iteration 5 / 20) loss: 2.290385\n",
      "(Iteration 6 / 20) loss: 2.658165\n",
      "(Epoch 3 / 10) train acc: 0.190000; val_acc: 0.126000\n",
      "(Iteration 7 / 20) loss: 2.423434\n",
      "(Iteration 8 / 20) loss: 1.949549\n",
      "(Epoch 4 / 10) train acc: 0.320000; val_acc: 0.162000\n",
      "(Iteration 9 / 20) loss: 2.198510\n",
      "(Iteration 10 / 20) loss: 2.014838\n",
      "(Epoch 5 / 10) train acc: 0.260000; val_acc: 0.117000\n",
      "(Iteration 11 / 20) loss: 2.087942\n",
      "(Iteration 12 / 20) loss: 1.948661\n",
      "(Epoch 6 / 10) train acc: 0.440000; val_acc: 0.166000\n",
      "(Iteration 13 / 20) loss: 1.618270\n",
      "(Iteration 14 / 20) loss: 1.666903\n",
      "(Epoch 7 / 10) train acc: 0.390000; val_acc: 0.187000\n",
      "(Iteration 15 / 20) loss: 1.473313\n",
      "(Iteration 16 / 20) loss: 1.707232\n",
      "(Epoch 8 / 10) train acc: 0.520000; val_acc: 0.190000\n",
      "(Iteration 17 / 20) loss: 1.444813\n",
      "(Iteration 18 / 20) loss: 1.456907\n",
      "(Epoch 9 / 10) train acc: 0.470000; val_acc: 0.220000\n",
      "(Iteration 19 / 20) loss: 1.273532\n",
      "(Iteration 20 / 20) loss: 1.506451\n",
      "(Epoch 10 / 10) train acc: 0.690000; val_acc: 0.207000\n"
     ]
    }
   ],
   "source": [
    "num_train = 100\n",
    "small_data = {\n",
    "  'X_train': data['X_train'][:num_train],\n",
    "  'y_train': data['y_train'][:num_train],\n",
    "  'X_val': data['X_val'],\n",
    "  'y_val': data['y_val'],\n",
    "}\n",
    "\n",
    "model = ThreeLayerConvNet(weight_scale=1e-2)\n",
    "\n",
    "solver = Solver(model, small_data,\n",
    "                num_epochs=10, batch_size=50,\n",
    "                update_rule='adam',\n",
    "                optim_config={\n",
    "                  'learning_rate': 1e-3,\n",
    "                },\n",
    "                verbose=True, print_every=1)\n",
    "solver.train()"
   ]
  },
  {
   "cell_type": "code",
   "execution_count": 17,
   "metadata": {},
   "outputs": [
    {
     "data": {
      "image/png": "[encoded data removed]",
      "text/plain": [
       "<Figure size 432x288 with 2 Axes>"
      ]
     },
     "metadata": {
      "needs_background": "light"
     },
     "output_type": "display_data"
    }
   ],
   "source": [
    "plt.subplot(2, 1, 1)\n",
    "plt.plot(solver.loss_history, 'o')\n",
    "plt.xlabel('iteration')\n",
    "plt.ylabel('loss')\n",
    "\n",
    "plt.subplot(2, 1, 2)\n",
    "plt.plot(solver.train_acc_history, '-o')\n",
    "plt.plot(solver.val_acc_history, '-o')\n",
    "plt.legend(['train', 'val'], loc='upper left')\n",
    "plt.xlabel('epoch')\n",
    "plt.ylabel('accuracy')\n",
    "plt.show()"
   ]
  },
  {
   "cell_type": "markdown",
   "metadata": {},
   "source": [
    "## Train the network\n",
    "\n",
    "Now we train the 3 layer CNN on CIFAR-10 and assess its accuracy."
   ]
  },
  {
   "cell_type": "code",
   "execution_count": 18,
   "metadata": {
    "scrolled": false
   },
   "outputs": [
    {
     "name": "stdout",
     "output_type": "stream",
     "text": [
      "(Iteration 1 / 980) loss: 2.304437\n",
      "(Epoch 0 / 1) train acc: 0.100000; val_acc: 0.102000\n",
      "(Iteration 21 / 980) loss: 2.241855\n",
      "(Iteration 41 / 980) loss: 2.297588\n",
      "(Iteration 61 / 980) loss: 1.873283\n",
      "(Iteration 81 / 980) loss: 2.028611\n",
      "(Iteration 101 / 980) loss: 1.765883\n",
      "(Iteration 121 / 980) loss: 1.930515\n",
      "(Iteration 141 / 980) loss: 2.097843\n",
      "(Iteration 161 / 980) loss: 2.001270\n",
      "(Iteration 181 / 980) loss: 1.731640\n",
      "(Iteration 201 / 980) loss: 1.883218\n",
      "(Iteration 221 / 980) loss: 1.630775\n",
      "(Iteration 241 / 980) loss: 1.507740\n",
      "(Iteration 261 / 980) loss: 1.630987\n",
      "(Iteration 281 / 980) loss: 1.815203\n",
      "(Iteration 301 / 980) loss: 1.795183\n",
      "(Iteration 321 / 980) loss: 1.832419\n",
      "(Iteration 341 / 980) loss: 1.772678\n",
      "(Iteration 361 / 980) loss: 1.935213\n",
      "(Iteration 381 / 980) loss: 1.478735\n",
      "(Iteration 401 / 980) loss: 1.604491\n",
      "(Iteration 421 / 980) loss: 1.647771\n",
      "(Iteration 441 / 980) loss: 1.644495\n",
      "(Iteration 461 / 980) loss: 1.846342\n",
      "(Iteration 481 / 980) loss: 1.735644\n",
      "(Iteration 501 / 980) loss: 1.833842\n",
      "(Iteration 521 / 980) loss: 1.802896\n",
      "(Iteration 541 / 980) loss: 1.861551\n",
      "(Iteration 561 / 980) loss: 1.639538\n",
      "(Iteration 581 / 980) loss: 1.511767\n",
      "(Iteration 601 / 980) loss: 1.492976\n",
      "(Iteration 621 / 980) loss: 1.902075\n",
      "(Iteration 641 / 980) loss: 1.681597\n",
      "(Iteration 661 / 980) loss: 1.740034\n",
      "(Iteration 681 / 980) loss: 1.550244\n",
      "(Iteration 701 / 980) loss: 1.645080\n",
      "(Iteration 721 / 980) loss: 1.555707\n",
      "(Iteration 741 / 980) loss: 1.780391\n",
      "(Iteration 761 / 980) loss: 1.667797\n",
      "(Iteration 781 / 980) loss: 1.845093\n",
      "(Iteration 801 / 980) loss: 1.525278\n",
      "(Iteration 821 / 980) loss: 1.477801\n",
      "(Iteration 841 / 980) loss: 1.751695\n",
      "(Iteration 861 / 980) loss: 1.534007\n",
      "(Iteration 881 / 980) loss: 1.703687\n",
      "(Iteration 901 / 980) loss: 1.601652\n",
      "(Iteration 921 / 980) loss: 1.748628\n",
      "(Iteration 941 / 980) loss: 1.545041\n",
      "(Iteration 961 / 980) loss: 1.625429\n",
      "(Epoch 1 / 1) train acc: 0.458000; val_acc: 0.489000\n"
     ]
    }
   ],
   "source": [
    "model = ThreeLayerConvNet(weight_scale=0.001, hidden_dim=500, reg=0.001)\n",
    "\n",
    "solver = Solver(model, data,\n",
    "                num_epochs=1, batch_size=50,\n",
    "                update_rule='adam',\n",
    "                optim_config={\n",
    "                  'learning_rate': 1e-3,\n",
    "                },\n",
    "                verbose=True, print_every=20)\n",
    "solver.train()"
   ]
  },
  {
   "cell_type": "markdown",
   "metadata": {},
   "source": [
    "# Get > 65% validation accuracy on CIFAR-10.\n",
    "\n",
    "In the last part of the assignment, we'll now ask you to train a CNN to get better than 65% validation accuracy on CIFAR-10.\n",
    "\n",
    "### Things you should try:\n",
    "- Filter size: Above we used 7x7; but VGGNet and onwards showed stacks of 3x3 filters are good.  \n",
    "- Number of filters: Above we used 32 filters. Do more or fewer do better?\n",
    "- Batch normalization: Try adding spatial batch normalization after convolution layers and vanilla batch normalization after affine layers. Do your networks train faster?\n",
    "- Network architecture: Can a deeper CNN do better?  Consider these architectures:\n",
    "    - [conv-relu-pool]xN - conv - relu - [affine]xM - [softmax or SVM]\n",
    "    - [conv-relu-pool]XN - [affine]XM - [softmax or SVM]\n",
    "    - [conv-relu-conv-relu-pool]xN - [affine]xM - [softmax or SVM]\n",
    "\n",
    "### Tips for training\n",
    "For each network architecture that you try, you should tune the learning rate and regularization strength. When doing this there are a couple of important things to keep in mind:\n",
    "\n",
    "- If the parameters are working well, you should see improvement within a few hundred iterations\n",
    "- Remember the coarse-to-fine approach for hyperparameter tuning: start by testing a large range of hyperparameters for just a few training iterations to find the combinations of parameters that are working at all.\n",
    "- Once you have found some sets of parameters that seem to work, search more finely around these parameters. You may need to train for more epochs."
   ]
  },
  {
   "cell_type": "code",
   "execution_count": 21,
   "metadata": {
    "scrolled": false
   },
   "outputs": [
    {
     "name": "stdout",
     "output_type": "stream",
     "text": [
      "(Iteration 1 / 3820) loss: 2.983392\n",
      "(Epoch 0 / 10) train acc: 0.129000; val_acc: 0.122000\n",
      "(Iteration 51 / 3820) loss: 2.166303\n",
      "(Iteration 101 / 3820) loss: 1.821175\n",
      "(Iteration 151 / 3820) loss: 1.887306\n",
      "(Iteration 201 / 3820) loss: 1.784684\n",
      "(Iteration 251 / 3820) loss: 1.875822\n",
      "(Iteration 301 / 3820) loss: 1.452913\n",
      "(Iteration 351 / 3820) loss: 1.797469\n",
      "(Epoch 1 / 10) train acc: 0.529000; val_acc: 0.545000\n",
      "(Iteration 401 / 3820) loss: 1.440279\n",
      "(Iteration 451 / 3820) loss: 1.634165\n",
      "(Iteration 501 / 3820) loss: 1.517869\n",
      "(Iteration 551 / 3820) loss: 1.686186\n",
      "(Iteration 601 / 3820) loss: 1.426468\n",
      "(Iteration 651 / 3820) loss: 1.351919\n",
      "(Iteration 701 / 3820) loss: 1.411070\n",
      "(Iteration 751 / 3820) loss: 1.299237\n",
      "(Epoch 2 / 10) train acc: 0.608000; val_acc: 0.582000\n",
      "(Iteration 801 / 3820) loss: 1.479310\n",
      "(Iteration 851 / 3820) loss: 1.511641\n",
      "(Iteration 901 / 3820) loss: 1.262350\n",
      "(Iteration 951 / 3820) loss: 1.432056\n",
      "(Iteration 1001 / 3820) loss: 1.277463\n",
      "(Iteration 1051 / 3820) loss: 1.422406\n",
      "(Iteration 1101 / 3820) loss: 1.322875\n",
      "(Epoch 3 / 10) train acc: 0.677000; val_acc: 0.615000\n",
      "(Iteration 1151 / 3820) loss: 1.183746\n",
      "(Iteration 1201 / 3820) loss: 1.303377\n",
      "(Iteration 1251 / 3820) loss: 1.433455\n",
      "(Iteration 1301 / 3820) loss: 1.484862\n",
      "(Iteration 1351 / 3820) loss: 1.172375\n",
      "(Iteration 1401 / 3820) loss: 1.311208\n",
      "(Iteration 1451 / 3820) loss: 1.351170\n",
      "(Iteration 1501 / 3820) loss: 1.212811\n",
      "(Epoch 4 / 10) train acc: 0.655000; val_acc: 0.610000\n",
      "(Iteration 1551 / 3820) loss: 1.107316\n",
      "(Iteration 1601 / 3820) loss: 1.191053\n",
      "(Iteration 1651 / 3820) loss: 1.341647\n",
      "(Iteration 1701 / 3820) loss: 1.148872\n",
      "(Iteration 1751 / 3820) loss: 1.257950\n",
      "(Iteration 1801 / 3820) loss: 1.193224\n",
      "(Iteration 1851 / 3820) loss: 1.183034\n",
      "(Iteration 1901 / 3820) loss: 1.271302\n",
      "(Epoch 5 / 10) train acc: 0.713000; val_acc: 0.640000\n",
      "(Iteration 1951 / 3820) loss: 1.201025\n",
      "(Iteration 2001 / 3820) loss: 1.396436\n",
      "(Iteration 2051 / 3820) loss: 1.215556\n",
      "(Iteration 2101 / 3820) loss: 1.339979\n",
      "(Iteration 2151 / 3820) loss: 1.255095\n",
      "(Iteration 2201 / 3820) loss: 1.357084\n",
      "(Iteration 2251 / 3820) loss: 1.156564\n",
      "(Epoch 6 / 10) train acc: 0.675000; val_acc: 0.622000\n",
      "(Iteration 2301 / 3820) loss: 1.266600\n",
      "(Iteration 2351 / 3820) loss: 1.358336\n",
      "(Iteration 2401 / 3820) loss: 1.122021\n",
      "(Iteration 2451 / 3820) loss: 1.080673\n",
      "(Iteration 2501 / 3820) loss: 1.147843\n",
      "(Iteration 2551 / 3820) loss: 1.359949\n",
      "(Iteration 2601 / 3820) loss: 1.198470\n",
      "(Iteration 2651 / 3820) loss: 1.371095\n",
      "(Epoch 7 / 10) train acc: 0.693000; val_acc: 0.616000\n",
      "(Iteration 2701 / 3820) loss: 1.040096\n",
      "(Iteration 2751 / 3820) loss: 1.334719\n",
      "(Iteration 2801 / 3820) loss: 1.144688\n",
      "(Iteration 2851 / 3820) loss: 1.192185\n",
      "(Iteration 2901 / 3820) loss: 1.039597\n",
      "(Iteration 2951 / 3820) loss: 1.294729\n",
      "(Iteration 3001 / 3820) loss: 1.195129\n",
      "(Iteration 3051 / 3820) loss: 1.224005\n",
      "(Epoch 8 / 10) train acc: 0.695000; val_acc: 0.636000\n",
      "(Iteration 3101 / 3820) loss: 1.121799\n",
      "(Iteration 3151 / 3820) loss: 1.197366\n",
      "(Iteration 3201 / 3820) loss: 1.188019\n",
      "(Iteration 3251 / 3820) loss: 1.212281\n",
      "(Iteration 3301 / 3820) loss: 1.135485\n",
      "(Iteration 3351 / 3820) loss: 1.331293\n",
      "(Iteration 3401 / 3820) loss: 1.179786\n",
      "(Epoch 9 / 10) train acc: 0.736000; val_acc: 0.648000\n",
      "(Iteration 3451 / 3820) loss: 1.041315\n",
      "(Iteration 3501 / 3820) loss: 1.010415\n",
      "(Iteration 3551 / 3820) loss: 1.166143\n",
      "(Iteration 3601 / 3820) loss: 1.098887\n",
      "(Iteration 3651 / 3820) loss: 1.204147\n",
      "(Iteration 3701 / 3820) loss: 1.046837\n",
      "(Iteration 3751 / 3820) loss: 1.104414\n",
      "(Iteration 3801 / 3820) loss: 1.169900\n",
      "(Epoch 10 / 10) train acc: 0.743000; val_acc: 0.632000\n"
     ]
    }
   ],
   "source": [
    "# ================================================================ #\n",
    "# YOUR CODE HERE:\n",
    "#   Implement a CNN to achieve greater than 65% validation accuracy\n",
    "#   on CIFAR-10.\n",
    "# ================================================================ #\n",
    "model = ThreeLayerConvNet(weight_scale=0.001, hidden_dim=500, reg=0.001,\n",
    "                         num_filters=32)\n",
    "\n",
    "solver = Solver(model, data,\n",
    "                num_epochs=10, batch_size=128,\n",
    "                update_rule='adam',\n",
    "                optim_config={\n",
    "                  'learning_rate': 7e-4,\n",
    "                },\n",
    "                verbose=True, print_every=50)\n",
    "\n",
    "solver.train()\n",
    "\n",
    "# ================================================================ #\n",
    "# END YOUR CODE HERE\n",
    "# ================================================================ #\n"
   ]
  },
  {
   "cell_type": "code",
   "execution_count": 24,
   "metadata": {},
   "outputs": [
    {
     "name": "stdout",
     "output_type": "stream",
     "text": [
      "Validation set accuracy: 0.648\n"
     ]
    }
   ],
   "source": [
    "y_val_pred = np.argmax(model.loss(data['X_val']), axis=1)\n",
    "print('Validation set accuracy: {}'.format(np.mean(y_val_pred == data['y_val'])))"
   ]
  }
 ],
 "metadata": {
  "kernelspec": {
   "display_name": "Python 3",
   "language": "python",
   "name": "python3"
  },
  "language_info": {
   "codemirror_mode": {
    "name": "ipython",
    "version": 3
   },
   "file_extension": ".py",
   "mimetype": "text/x-python",
   "name": "python",
   "nbconvert_exporter": "python",
   "pygments_lexer": "ipython3",
   "version": "3.7.4"
  },
  "varInspector": {
   "cols": {
    "lenName": 16,
    "lenType": 16,
    "lenVar": 40
   },
   "kernels_config": {
    "python": {
     "delete_cmd_postfix": "",
     "delete_cmd_prefix": "del ",
     "library": "var_list.py",
     "varRefreshCmd": "print(var_dic_list())"
    },
    "r": {
     "delete_cmd_postfix": ") ",
     "delete_cmd_prefix": "rm(",
     "library": "var_list.r",
     "varRefreshCmd": "cat(var_dic_list()) "
    }
   },
   "types_to_exclude": [
    "module",
    "function",
    "builtin_function_or_method",
    "instance",
    "_Feature"
   ],
   "window_display": true
  }
 },
 "nbformat": 4,
 "nbformat_minor": 2
}
